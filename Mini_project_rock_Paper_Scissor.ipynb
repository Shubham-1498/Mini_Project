{
 "cells": [
  {
   "cell_type": "code",
   "execution_count": 2,
   "id": "6d760061",
   "metadata": {},
   "outputs": [
    {
     "name": "stdout",
     "output_type": "stream",
     "text": [
      "Let's play Rock, Paper, Scissors!\n",
      "Enter your choice (rock, paper, scissors): paper\n",
      "You chose paper\n",
      "Computer chose paper\n",
      "It's a tie!\n"
     ]
    }
   ],
   "source": [
    "import random\n",
    "\n",
    "print(\"Let's play Rock, Paper, Scissors!\")\n",
    "\n",
    "player_choice = input(\"Enter your choice (rock, paper, scissors): \").lower()\n",
    "computer_choice = random.choice([\"rock\", \"paper\", \"scissors\"])\n",
    "\n",
    "print(f\"You chose {player_choice}\")\n",
    "print(f\"Computer chose {computer_choice}\")\n",
    "\n",
    "if player_choice == computer_choice:\n",
    "    print(\"It's a tie!\")\n",
    "elif (player_choice == \"rock\" and computer_choice == \"scissors\") or \\\n",
    "     (player_choice == \"paper\" and computer_choice == \"rock\") or \\\n",
    "     (player_choice == \"scissors\" and computer_choice == \"paper\"):\n",
    "    print(\"You win!\")\n",
    "else:\n",
    "    print(\"Computer wins!\")\n"
   ]
  },
  {
   "cell_type": "code",
   "execution_count": 3,
   "id": "3a48591c",
   "metadata": {},
   "outputs": [],
   "source": [
    "import tkinter as tk\n",
    "import random\n",
    "\n",
    "# Function to determine the winner\n",
    "def determine_winner(player_choice, computer_choice):\n",
    "    if player_choice == computer_choice:\n",
    "        return \"It's a tie!\"\n",
    "    elif (player_choice == \"Rock\" and computer_choice == \"Scissors\") or \\\n",
    "         (player_choice == \"Paper\" and computer_choice == \"Rock\") or \\\n",
    "         (player_choice == \"Scissors\" and computer_choice == \"Paper\"):\n",
    "        return \"You win!\"\n",
    "    else:\n",
    "        return \"Computer wins!\"\n",
    "\n",
    "# Function to play the game\n",
    "def play_game():\n",
    "    player_choice = player_var.get()\n",
    "    computer_choice = random.choice([\"Rock\", \"Paper\", \"Scissors\"])\n",
    "    result = determine_winner(player_choice, computer_choice)\n",
    "    result_label.config(text=f\"You chose {player_choice}\\nComputer chose {computer_choice}\\n{result}\")\n",
    "\n",
    "# Created the main window\n",
    "root = tk.Tk()\n",
    "root.title(\"Rock, Paper, Scissors Game\")\n",
    "\n",
    "# Created a labekl\n",
    "label = tk.Label(root, text=\"Choose Rock, Paper, or Scissors:\")\n",
    "label.pack()\n",
    "\n",
    "# Created a button for player's choice\n",
    "player_var = tk.StringVar()\n",
    "player_var.set(\"Rock\")\n",
    "choices = [\"Rock\", \"Paper\", \"Scissors\"]\n",
    "for choice in choices:\n",
    "    radio_button = tk.Radiobutton(root, text=choice, variable=player_var, value=choice)\n",
    "    radio_button.pack()\n",
    "\n",
    "# Created a button to play the game\n",
    "play_button = tk.Button(root, text=\"Play\", command=play_game)\n",
    "play_button.pack()\n",
    "\n",
    "# Created a label to display the result\n",
    "result_label = tk.Label(root, text=\"\")\n",
    "result_label.pack()\n",
    "\n",
    "root.mainloop()\n"
   ]
  },
  {
   "cell_type": "code",
   "execution_count": null,
   "id": "53137454",
   "metadata": {},
   "outputs": [],
   "source": []
  }
 ],
 "metadata": {
  "kernelspec": {
   "display_name": "Python 3 (ipykernel)",
   "language": "python",
   "name": "python3"
  },
  "language_info": {
   "codemirror_mode": {
    "name": "ipython",
    "version": 3
   },
   "file_extension": ".py",
   "mimetype": "text/x-python",
   "name": "python",
   "nbconvert_exporter": "python",
   "pygments_lexer": "ipython3",
   "version": "3.11.4"
  }
 },
 "nbformat": 4,
 "nbformat_minor": 5
}
